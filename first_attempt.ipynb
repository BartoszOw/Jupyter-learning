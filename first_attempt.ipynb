{
 "cells": [
  {
   "cell_type": "markdown",
   "id": "897fb690-11b1-4f14-9868-c0745c88f4c4",
   "metadata": {},
   "source": [
    "# My first Notebook\n",
    "this is my first notebook. This text is made with Markdown."
   ]
  },
  {
   "cell_type": "code",
   "execution_count": 2,
   "id": "87de2bae-5440-4d94-aada-823f01fd132f",
   "metadata": {},
   "outputs": [
    {
     "name": "stdout",
     "output_type": "stream",
     "text": [
      "this is another cell, this text was made with Code\n"
     ]
    }
   ],
   "source": [
    "print(\"this is another cell, this text was made with Code\")"
   ]
  },
  {
   "cell_type": "markdown",
   "id": "6b0b60a4-0385-4608-8882-0b73223af801",
   "metadata": {},
   "source": [
    "## Functions"
   ]
  },
  {
   "cell_type": "markdown",
   "id": "ab4c57e6-475f-4a82-9457-2df61a6dba01",
   "metadata": {},
   "source": [
    "Używamy słowa def do stworzenia funkcji"
   ]
  },
  {
   "cell_type": "code",
   "execution_count": 4,
   "id": "2ccd1749-db22-461e-9278-db24c330e213",
   "metadata": {},
   "outputs": [],
   "source": [
    "def multiple(a, b):\n",
    "    return a + b "
   ]
  },
  {
   "cell_type": "markdown",
   "id": "1d2145f6-190e-4e33-b21c-c9058ebabd40",
   "metadata": {},
   "source": [
    "Wywołujemy funkcje z a=2 i b=2"
   ]
  },
  {
   "cell_type": "code",
   "execution_count": 6,
   "id": "df536fdf-39a8-4d2a-aa3f-7376524ab112",
   "metadata": {},
   "outputs": [
    {
     "data": {
      "text/plain": [
       "4"
      ]
     },
     "execution_count": 6,
     "metadata": {},
     "output_type": "execute_result"
    }
   ],
   "source": [
    "multiple(2,2)"
   ]
  }
 ],
 "metadata": {
  "kernelspec": {
   "display_name": "Python 3 (ipykernel)",
   "language": "python",
   "name": "python3"
  },
  "language_info": {
   "codemirror_mode": {
    "name": "ipython",
    "version": 3
   },
   "file_extension": ".py",
   "mimetype": "text/x-python",
   "name": "python",
   "nbconvert_exporter": "python",
   "pygments_lexer": "ipython3",
   "version": "3.11.7"
  }
 },
 "nbformat": 4,
 "nbformat_minor": 5
}
